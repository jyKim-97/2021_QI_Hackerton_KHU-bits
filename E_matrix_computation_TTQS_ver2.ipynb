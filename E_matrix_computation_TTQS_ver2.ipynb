{
 "cells": [
  {
   "cell_type": "code",
   "execution_count": 7,
   "id": "wound-candle",
   "metadata": {},
   "outputs": [],
   "source": [
    "import numpy as np\n",
    "from qiskit import IBMQ\n",
    "from qiskit import QuantumRegister, ClassicalRegister, QuantumCircuit\n",
    "from numpy import pi\n",
    "from qiskit import assemble\n",
    "from qiskit.visualization import plot_histogram\n",
    "import matplotlib.pyplot as plt\n",
    "from qiskit import transpile"
   ]
  },
  {
   "cell_type": "code",
   "execution_count": 2,
   "id": "aware-degree",
   "metadata": {},
   "outputs": [
    {
     "name": "stdout",
     "output_type": "stream",
     "text": [
      "the best backend is  : ibmq_guadalupe\n"
     ]
    }
   ],
   "source": [
    "IBMQ.save_account('fdfb80d19410419eff8c7cbef32c13fba8d3ac8c39289eb504936d5bcf71307dd8ca5c7aa2f6790d054889f46d11d70ea2b4994a4d2a7003c8a4cd6f759bbb63', overwrite = True )\n",
    "provider = IBMQ.load_account()\n",
    "provider = IBMQ.get_provider(hub='ibm-q-skku', group='skku', project='saint')\n",
    "\n",
    "from qiskit.providers.ibmq import least_busy\n",
    "large_enough_devices = provider.backends(filters=lambda x: x.configuration().n_qubits > 3 and not x.configuration().simulator)\n",
    "backend = least_busy(large_enough_devices)\n",
    "print('the best backend is  : '+ backend.name())"
   ]
  },
  {
   "cell_type": "code",
   "execution_count": 3,
   "id": "primary-vegetarian",
   "metadata": {},
   "outputs": [],
   "source": [
    "plt.rcParams['font.family'] = 'Serif'\n",
    "plt.rcParams['font.size'] = 10\n",
    "plt.rcParams['axes.facecolor'] = 'w'"
   ]
  },
  {
   "cell_type": "code",
   "execution_count": 20,
   "id": "cellular-invasion",
   "metadata": {},
   "outputs": [],
   "source": [
    "param_list = 2*pi*(np.random.random_sample(6)-0.5)\n",
    "\n",
    "qreg_q = QuantumRegister(2, 'q')\n",
    "creg_c = ClassicalRegister(2, 'c')"
   ]
  },
  {
   "cell_type": "code",
   "execution_count": 23,
   "id": "flush-footwear",
   "metadata": {},
   "outputs": [
    {
     "name": "stderr",
     "output_type": "stream",
     "text": [
      "/home/ubuntu/anaconda3/lib/python3.6/site-packages/ipykernel_launcher.py:30: DeprecationWarning: Passing a Qobj to Backend.run is deprecated and will be removed in a future release. Please pass in circuits or pulse schedules instead.\n"
     ]
    }
   ],
   "source": [
    "qreg_q = QuantumRegister(2, 'q')\n",
    "creg_c = ClassicalRegister(2, 'c')\n",
    "circuit = QuantumCircuit(qreg_q, creg_c)\n",
    "\n",
    "circuit.rx(param_list[0] , qreg_q[0])\n",
    "circuit.ry(param_list[1] , qreg_q[1])\n",
    "circuit.rz(param_list[2] , qreg_q[0])\n",
    "circuit.rx(param_list[3] , qreg_q[1])\n",
    "circuit.ry(param_list[4] , qreg_q[0])\n",
    "circuit.rz(param_list[5] , qreg_q[1])\n",
    "circuit.cnot(qreg_q[0] , qreg_q[1])\n",
    "\n",
    "circuit.x(qreg_q[0])\n",
    "circuit.x(qreg_q[1])\n",
    "\n",
    "circuit.cnot(qreg_q[0] , qreg_q[1])\n",
    "circuit.ry(-param_list[4] , qreg_q[0])\n",
    "circuit.rz(-param_list[5] , qreg_q[1])\n",
    "circuit.rz(-param_list[2] , qreg_q[0])\n",
    "circuit.rx(-param_list[3] , qreg_q[1])\n",
    "circuit.rx(-param_list[0] , qreg_q[0])\n",
    "circuit.ry(-param_list[1] , qreg_q[1])\n",
    "\n",
    "circuit.measure_all()\n",
    "t_circ = transpile(circuit, backend)\n",
    "\n",
    "qobj = assemble(t_circ, shot = 8192)\n",
    "counts_xx = backend.run(qobj).result().get_counts()\n",
    "\n",
    "circuit.draw('mpl')"
   ]
  },
  {
   "cell_type": "code",
   "execution_count": 24,
   "id": "final-senegal",
   "metadata": {},
   "outputs": [],
   "source": [
    "qreg_q = QuantumRegister(2, 'q')\n",
    "creg_c = ClassicalRegister(2, 'c')\n",
    "circuit = QuantumCircuit(qreg_q, creg_c)\n",
    "\n",
    "circuit.rx(param_list[0] , qreg_q[0])\n",
    "circuit.ry(param_list[1] , qreg_q[1])\n",
    "circuit.rz(param_list[2] , qreg_q[0])\n",
    "circuit.rx(param_list[3] , qreg_q[1])\n",
    "circuit.ry(param_list[4] , qreg_q[0])\n",
    "circuit.rz(param_list[5] , qreg_q[1])\n",
    "circuit.cnot(qreg_q[0] , qreg_q[1])\n",
    "\n",
    "circuit.y(qreg_q[0])\n",
    "circuit.y(qreg_q[1])\n",
    "\n",
    "circuit.cnot(qreg_q[0] , qreg_q[1])\n",
    "circuit.ry(-param_list[4] , qreg_q[0])\n",
    "circuit.rz(-param_list[5] , qreg_q[1])\n",
    "circuit.rz(-param_list[2] , qreg_q[0])\n",
    "circuit.rx(-param_list[3] , qreg_q[1])\n",
    "circuit.rx(-param_list[0] , qreg_q[0])\n",
    "circuit.ry(-param_list[1] , qreg_q[1])\n",
    "\n",
    "circuit.measure_all()\n",
    "t_circ = transpile(circuit, backend)\n",
    "\n",
    "qobj = assemble(t_circ, shot = 8192)\n",
    "counts_yy = backend.run(qobj).result().get_counts()\n",
    "\n",
    "circuit.draw('mpl')"
   ]
  },
  {
   "cell_type": "code",
   "execution_count": 25,
   "id": "composed-delight",
   "metadata": {
    "tags": []
   },
   "outputs": [],
   "source": [
    "qreg_q = QuantumRegister(2, 'q')\n",
    "creg_c = ClassicalRegister(2, 'c')\n",
    "circuit = QuantumCircuit(qreg_q, creg_c)\n",
    "\n",
    "circuit.rx(param_list[0] , qreg_q[0])\n",
    "circuit.ry(param_list[1] , qreg_q[1])\n",
    "circuit.rz(param_list[2] , qreg_q[0])\n",
    "circuit.rx(param_list[3] , qreg_q[1])\n",
    "circuit.ry(param_list[4] , qreg_q[0])\n",
    "circuit.rz(param_list[5] , qreg_q[1])\n",
    "circuit.cnot(qreg_q[0] , qreg_q[1])\n",
    "\n",
    "circuit.z(qreg_q[0])\n",
    "circuit.z(qreg_q[1])\n",
    "\n",
    "circuit.cnot(qreg_q[0] , qreg_q[1])\n",
    "circuit.ry(-param_list[4] , qreg_q[0])\n",
    "circuit.rz(-param_list[5] , qreg_q[1])\n",
    "circuit.rz(-param_list[2] , qreg_q[0])\n",
    "circuit.rx(-param_list[3] , qreg_q[1])\n",
    "circuit.rx(-param_list[0] , qreg_q[0])\n",
    "circuit.ry(-param_list[1] , qreg_q[1])\n",
    "\n",
    "circuit.measure_all()\n",
    "t_circ = transpile(circuit, backend)\n",
    "\n",
    "qobj = assemble(t_circ, shot = 8192)\n",
    "counts_zz = backend.run(qobj).result().get_counts()\n",
    "\n",
    "circuit.draw('mpl')"
   ]
  },
  {
   "cell_type": "code",
   "execution_count": 26,
   "id": "infectious-broadway",
   "metadata": {},
   "outputs": [],
   "source": [
    "qreg_q = QuantumRegister(2, 'q')\n",
    "creg_c = ClassicalRegister(2, 'c')\n",
    "circuit = QuantumCircuit(qreg_q, creg_c)\n",
    "\n",
    "circuit.rx(param_list[0] , qreg_q[0])\n",
    "circuit.ry(param_list[1] , qreg_q[1])\n",
    "circuit.rz(param_list[2] , qreg_q[0])\n",
    "circuit.rx(param_list[3] , qreg_q[1])\n",
    "circuit.ry(param_list[4] , qreg_q[0])\n",
    "circuit.rz(param_list[5] , qreg_q[1])\n",
    "circuit.cnot(qreg_q[0] , qreg_q[1])\n",
    "\n",
    "circuit.x(qreg_q[0])\n",
    "circuit.x(qreg_q[1])\n",
    "\n",
    "circuit.y(qreg_q[0])\n",
    "circuit.y(qreg_q[1])\n",
    "\n",
    "circuit.cnot(qreg_q[0] , qreg_q[1])\n",
    "circuit.ry(-param_list[4] , qreg_q[0])\n",
    "circuit.rz(-param_list[5] , qreg_q[1])\n",
    "circuit.rz(-param_list[2] , qreg_q[0])\n",
    "circuit.rx(-param_list[3] , qreg_q[1])\n",
    "circuit.rx(-param_list[0] , qreg_q[0])\n",
    "circuit.ry(-param_list[1] , qreg_q[1])\n",
    "\n",
    "circuit.measure_all()\n",
    "t_circ = transpile(circuit, backend)\n",
    "\n",
    "qobj = assemble(t_circ, shot = 8192)\n",
    "counts_xy = backend.run(qobj).result().get_counts()\n",
    "\n",
    "circuit.draw('mpl')"
   ]
  },
  {
   "cell_type": "code",
   "execution_count": 27,
   "id": "second-designer",
   "metadata": {},
   "outputs": [],
   "source": [
    "qreg_q = QuantumRegister(2, 'q')\n",
    "creg_c = ClassicalRegister(2, 'c')\n",
    "circuit = QuantumCircuit(qreg_q, creg_c)\n",
    "\n",
    "circuit.rx(param_list[0] , qreg_q[0])\n",
    "circuit.ry(param_list[1] , qreg_q[1])\n",
    "circuit.rz(param_list[2] , qreg_q[0])\n",
    "circuit.rx(param_list[3] , qreg_q[1])\n",
    "circuit.ry(param_list[4] , qreg_q[0])\n",
    "circuit.rz(param_list[5] , qreg_q[1])\n",
    "circuit.cnot(qreg_q[0] , qreg_q[1])\n",
    "\n",
    "circuit.x(qreg_q[0])\n",
    "circuit.x(qreg_q[1])\n",
    "\n",
    "circuit.z(qreg_q[0])\n",
    "circuit.z(qreg_q[1])\n",
    "\n",
    "circuit.cnot(qreg_q[0] , qreg_q[1])\n",
    "circuit.ry(-param_list[4] , qreg_q[0])\n",
    "circuit.rz(-param_list[5] , qreg_q[1])\n",
    "circuit.rz(-param_list[2] , qreg_q[0])\n",
    "circuit.rx(-param_list[3] , qreg_q[1])\n",
    "circuit.rx(-param_list[0] , qreg_q[0])\n",
    "circuit.ry(-param_list[1] , qreg_q[1])\n",
    "\n",
    "circuit.measure_all()\n",
    "t_circ = transpile(circuit, backend)\n",
    "\n",
    "qobj = assemble(t_circ, shot = 8192)\n",
    "counts_xz = backend.run(qobj).result().get_counts()\n",
    "\n",
    "circuit.draw('mpl')"
   ]
  },
  {
   "cell_type": "code",
   "execution_count": 28,
   "id": "fleet-intention",
   "metadata": {},
   "outputs": [],
   "source": [
    "qreg_q = QuantumRegister(2, 'q')\n",
    "creg_c = ClassicalRegister(2, 'c')\n",
    "circuit = QuantumCircuit(qreg_q, creg_c)\n",
    "\n",
    "circuit.rx(param_list[0] , qreg_q[0])\n",
    "circuit.ry(param_list[1] , qreg_q[1])\n",
    "circuit.rz(param_list[2] , qreg_q[0])\n",
    "circuit.rx(param_list[3] , qreg_q[1])\n",
    "circuit.ry(param_list[4] , qreg_q[0])\n",
    "circuit.rz(param_list[5] , qreg_q[1])\n",
    "circuit.cnot(qreg_q[0] , qreg_q[1])\n",
    "\n",
    "circuit.y(qreg_q[0])\n",
    "circuit.y(qreg_q[1])\n",
    "\n",
    "circuit.z(qreg_q[0])\n",
    "circuit.z(qreg_q[1])\n",
    "\n",
    "circuit.cnot(qreg_q[0] , qreg_q[1])\n",
    "circuit.ry(-param_list[4] , qreg_q[0])\n",
    "circuit.rz(-param_list[5] , qreg_q[1])\n",
    "circuit.rz(-param_list[2] , qreg_q[0])\n",
    "circuit.rx(-param_list[3] , qreg_q[1])\n",
    "circuit.rx(-param_list[0] , qreg_q[0])\n",
    "circuit.ry(-param_list[1] , qreg_q[1])\n",
    "\n",
    "circuit.measure_all()\n",
    "t_circ = transpile(circuit, backend)\n",
    "\n",
    "qobj = assemble(t_circ, shot = 8192)\n",
    "counts_yz = backend.run(qobj).result().get_counts()\n",
    "\n",
    "circuit.draw('mpl')"
   ]
  },
  {
   "cell_type": "code",
   "execution_count": 58,
   "id": "beginning-oxide",
   "metadata": {},
   "outputs": [],
   "source": [
    "# conver to prob\n",
    "probs_xx, _ = get_prob(counts_xx)\n",
    "probs_yy, _ = get_prob(counts_yy)\n",
    "probs_zz, _ = get_prob(counts_zz)\n",
    "probs_xy, _ = get_prob(counts_xy)\n",
    "probs_xz, _ = get_prob(counts_xz)\n",
    "probs_yz, _ = get_prob(counts_yz)"
   ]
  },
  {
   "cell_type": "code",
   "execution_count": 63,
   "id": "protecting-thanksgiving",
   "metadata": {},
   "outputs": [],
   "source": [
    "Emat = [[1, probs_xx[0], probs_yy[0], probs_zz[0]],\n",
    "        [probs_xx[0], 1, probs_xy[0], probs_xz[0]],\n",
    "        [probs_yy[0], probs_xy[0], 1, probs_yz[0]],\n",
    "        [probs_zz[0], probs_xz[0], probs_yz[0], 1]]\n",
    "Emat = np.sqrt(Emat)"
   ]
  },
  {
   "cell_type": "code",
   "execution_count": 64,
   "id": "unavailable-stuart",
   "metadata": {},
   "outputs": [
    {
     "data": {
      "text/plain": [
       "array([[1.        , 0.21423921, 0.05412659, 0.23385359],\n",
       "       [0.21423921, 1.        , 0.23385359, 0.0625    ],\n",
       "       [0.05412659, 0.23385359, 1.        , 0.21875   ],\n",
       "       [0.23385359, 0.0625    , 0.21875   , 1.        ]])"
      ]
     },
     "execution_count": 64,
     "metadata": {},
     "output_type": "execute_result"
    }
   ],
   "source": [
    "Emat"
   ]
  },
  {
   "cell_type": "code",
   "execution_count": 71,
   "id": "compatible-western",
   "metadata": {},
   "outputs": [],
   "source": [
    "\n",
    "qreg_q = QuantumRegister(2, 'q')\n",
    "creg_c = ClassicalRegister(2, 'c')\n",
    "\n",
    "# Psi 0\n",
    "psi0 = QuantumCircuit(qreg_q, creg_c)\n",
    "psi0.rx(param_list[0] , qreg_q[0])\n",
    "psi0.ry(param_list[1] , qreg_q[1])\n",
    "psi0.rz(param_list[2] , qreg_q[0])\n",
    "psi0.rx(param_list[3] , qreg_q[1])\n",
    "psi0.ry(param_list[4] , qreg_q[0])\n",
    "psi0.rz(param_list[5] , qreg_q[1])\n",
    "psi0.cnot(qreg_q[0] , qreg_q[1])\n",
    "\n",
    "psi0.draw('mpl')\n",
    "\n",
    "# Psi 1\n",
    "psi1 = QuantumCircuit(qreg_q, creg_c)\n",
    "psi1.rx(param_list[0] , qreg_q[0])\n",
    "psi1.ry(param_list[1] , qreg_q[1])\n",
    "psi1.rz(param_list[2] , qreg_q[0])\n",
    "psi1.rx(param_list[3] , qreg_q[1])\n",
    "psi1.ry(param_list[4] , qreg_q[0])\n",
    "psi1.rz(param_list[5] , qreg_q[1])\n",
    "psi1.cnot(qreg_q[0] , qreg_q[1])\n",
    "\n",
    "psi1.draw('mpl')\n",
    "\n",
    "# Psi 2\n",
    "psi2 = QuantumCircuit(qreg_q, creg_c)\n",
    "psi2.rx(param_list[0] , qreg_q[0])\n",
    "psi2.ry(param_list[1] , qreg_q[1])\n",
    "psi2.rz(param_list[2] , qreg_q[0])\n",
    "psi2.rx(param_list[3] , qreg_q[1])\n",
    "psi2.ry(param_list[4] , qreg_q[0])\n",
    "psi2.rz(param_list[5] , qreg_q[1])\n",
    "psi2.cnot(qreg_q[0] , qreg_q[1])\n",
    "\n",
    "psi2.draw('mpl')\n",
    "\n",
    "# Psi 3\n",
    "psi3 = QuantumCircuit(qreg_q, creg_c)\n",
    "psi3.rx(param_list[0] , qreg_q[0])\n",
    "psi3.ry(param_list[1] , qreg_q[1])\n",
    "psi3.rz(param_list[2] , qreg_q[0])\n",
    "psi3.rx(param_list[3] , qreg_q[1])\n",
    "psi3.ry(param_list[4] , qreg_q[0])\n",
    "psi3.rz(param_list[5] , qreg_q[1])\n",
    "psi3.cnot(qreg_q[0] , qreg_q[1])\n",
    "\n",
    "psi3.draw('mpl')\n",
    "\n",
    "\n",
    "chi0 = psi0\n",
    "chi0.measure_all()\n",
    "chi0.draw('mpl')\n",
    "\n",
    "chi1 = psi1\n",
    "\n",
    "chi1.x(qreg_q[0])\n",
    "chi1.x(qreg_q[1])\n",
    "chi1.measure_all()\n",
    "\n",
    "chi2 = psi2\n",
    "chi2.y(qreg_q[0])\n",
    "chi2.y(qreg_q[1])\n",
    "chi2.measure_all()\n",
    "\n",
    "chi3 = psi3\n",
    "chi3.z(qreg_q[0])\n",
    "chi3.z(qreg_q[1])\n",
    "chi3.measure_all()"
   ]
  },
  {
   "cell_type": "code",
   "execution_count": 72,
   "id": "electoral-converter",
   "metadata": {},
   "outputs": [
    {
     "data": {
      "image/png": "[encoded data removed]",
      "text/plain": [
       "<Figure size 598.479x264.88 with 1 Axes>"
      ]
     },
     "execution_count": 72,
     "metadata": {},
     "output_type": "execute_result"
    }
   ],
   "source": [
    "chi1.draw('mpl')"
   ]
  },
  {
   "cell_type": "code",
   "execution_count": 73,
   "id": "boring-intersection",
   "metadata": {},
   "outputs": [
    {
     "data": {
      "image/png": "[encoded data removed]",
      "text/plain": [
       "<Figure size 598.479x264.88 with 1 Axes>"
      ]
     },
     "execution_count": 73,
     "metadata": {},
     "output_type": "execute_result"
    }
   ],
   "source": [
    "chi2.draw('mpl')"
   ]
  },
  {
   "cell_type": "code",
   "execution_count": 74,
   "id": "normal-parade",
   "metadata": {},
   "outputs": [
    {
     "data": {
      "image/png": "[encoded data removed]",
      "text/plain": [
       "<Figure size 598.479x264.88 with 1 Axes>"
      ]
     },
     "execution_count": 74,
     "metadata": {},
     "output_type": "execute_result"
    }
   ],
   "source": [
    "chi3.draw('mpl')"
   ]
  },
  {
   "cell_type": "code",
   "execution_count": 75,
   "id": "tutorial-stupid",
   "metadata": {},
   "outputs": [],
   "source": [
    "t_circ0 = transpile(chi0, backend)\n",
    "t_circ1 = transpile(chi1, backend)\n",
    "t_circ2 = transpile(chi2, backend)\n",
    "t_circ3 = transpile(chi3, backend)"
   ]
  },
  {
   "cell_type": "code",
   "execution_count": null,
   "id": "biological-burke",
   "metadata": {},
   "outputs": [],
   "source": [
    "chi0qobj = assemble(t_circ0, shot = 1000 )\n",
    "chi0counts = backend.run(chi0qobj).result().get_counts()\n",
    "\n",
    "chi1qobj = assemble(t_circ1, shot = 1000 )\n",
    "chi1counts = backend.run(chi1qobj).result().get_counts()\n",
    "\n",
    "chi2qobj = assemble(t_circ2, shot = 1000 )\n",
    "chi2counts = backend.run(chi2qobj).result().get_counts()\n",
    "\n",
    "chi3qobj = assemble(t_circ3, shot = 1000 )\n",
    "chi3counts = backend.run(chi3qobj).result().get_counts()\n",
    "\n",
    "# plot_histogram(chi0counts)"
   ]
  },
  {
   "cell_type": "code",
   "execution_count": null,
   "id": "crazy-twenty",
   "metadata": {},
   "outputs": [],
   "source": [
    "plot_histogram(chi0counts)"
   ]
  },
  {
   "cell_type": "code",
   "execution_count": null,
   "id": "painted-italian",
   "metadata": {},
   "outputs": [],
   "source": [
    "plot_histogram(chi1counts)"
   ]
  },
  {
   "cell_type": "code",
   "execution_count": null,
   "id": "compliant-identification",
   "metadata": {},
   "outputs": [],
   "source": [
    "plot_histogram(chi2counts)"
   ]
  },
  {
   "cell_type": "code",
   "execution_count": null,
   "id": "stuck-healthcare",
   "metadata": {},
   "outputs": [],
   "source": [
    "plot_histogram(chi3counts)"
   ]
  },
  {
   "cell_type": "code",
   "execution_count": null,
   "id": "danish-antibody",
   "metadata": {},
   "outputs": [],
   "source": [
    "chi0counts_list = []\n",
    "print(chi0counts)\n",
    "for key in chi0counts:\n",
    "  # print(chi0counts[key])\n",
    "  chi0counts_list.append(chi0counts[key])\n",
    "\n",
    "print(chi0counts_list)"
   ]
  },
  {
   "cell_type": "code",
   "execution_count": null,
   "id": "japanese-provider",
   "metadata": {},
   "outputs": [],
   "source": [
    "chi1counts_list = []\n",
    "print(chi1counts)\n",
    "for key in chi1counts:\n",
    "  # print(chi0counts[key])\n",
    "  chi1counts_list.append(chi1counts[key])\n",
    "\n",
    "print(chi1counts_list)"
   ]
  },
  {
   "cell_type": "code",
   "execution_count": null,
   "id": "decimal-tragedy",
   "metadata": {},
   "outputs": [],
   "source": [
    "chi2counts_list = []\n",
    "print(chi2counts)\n",
    "for key in chi2counts:\n",
    "  # print(chi2counts[key])\n",
    "  chi2counts_list.append(chi2counts[key])\n",
    "\n",
    "print(chi2counts_list)"
   ]
  },
  {
   "cell_type": "code",
   "execution_count": null,
   "id": "dying-bunch",
   "metadata": {},
   "outputs": [],
   "source": [
    "chi3counts_list = []\n",
    "print(chi3counts)\n",
    "for key in chi3counts:\n",
    "  # print(chi0counts[key])\n",
    "  chi3counts_list.append(chi3counts[key])\n",
    "\n",
    "print(chi3counts_list)"
   ]
  },
  {
   "cell_type": "code",
   "execution_count": null,
   "id": "functioning-return",
   "metadata": {},
   "outputs": [],
   "source": [
    "\n",
    "M = []\n",
    "M.append(chi0counts_list)\n",
    "M.append(chi1counts_list)\n",
    "M.append(chi2counts_list)\n",
    "M.append(chi3counts_list)\n"
   ]
  },
  {
   "cell_type": "code",
   "execution_count": null,
   "id": "bronze-duplicate",
   "metadata": {},
   "outputs": [],
   "source": [
    "M = np.transpose(M)\n",
    "M =  M/1024\n",
    "M = np.sqrt(M)"
   ]
  },
  {
   "cell_type": "code",
   "execution_count": null,
   "id": "close-arena",
   "metadata": {},
   "outputs": [],
   "source": [
    "D = np.zeros([4,4])\n",
    "for n in range(4):\n",
    "  for m in range(4):\n",
    "    # print(D[n,m])\n",
    "    D[n,m] = (1/2)*(2*M[1,n]*M[2,m]+2*M[2,n]*M[1,m]+M[0,n]*M[0,m]-M[1,n]*M[1,m]-M[2,n]*M[2,m]+M[3,n]*M[3,m])\n",
    "\n",
    "\n",
    "print(D)"
   ]
  },
  {
   "cell_type": "code",
   "execution_count": null,
   "id": "resistant-guide",
   "metadata": {},
   "outputs": [],
   "source": [
    "E = Emat"
   ]
  },
  {
   "cell_type": "code",
   "execution_count": null,
   "id": "searching-clearing",
   "metadata": {},
   "outputs": [],
   "source": [
    "import tensorflow as tf\n",
    "import tensorflow.keras.backend as K\n",
    "import numpy as np"
   ]
  },
  {
   "cell_type": "code",
   "execution_count": null,
   "id": "periodic-classics",
   "metadata": {},
   "outputs": [],
   "source": [
    "\n",
    "alpha_r = np.random.rand(1,4)\n",
    "alpha_i = np.random.rand(1,4)\n",
    "alpha_r = np.array([0.5,0.5,0.5,0.5])\n",
    "alpha_i = np.zeros_like(alpha_i)\n",
    "alpha = tf.complex(alpha_r,alpha_i)\n",
    "alpha = tf.cast(alpha,tf.complex64)\n",
    "\n",
    "\n",
    "dagger_alpha = tf.math.conj(alpha)\n",
    "\n",
    "print(tf.matmul(dagger_alpha,tf.matmul(E,tf.transpose(alpha))))\\\n",
    "\n",
    "# print(dagger_alpha+alpha)"
   ]
  },
  {
   "cell_type": "code",
   "execution_count": null,
   "id": "continuous-given",
   "metadata": {},
   "outputs": [],
   "source": [
    "##Optimizer part\n",
    "random_input = tf.keras.layers.Input(shape=(50))\n",
    "x = tf.keras.layers.Dense(20, activation=tf.tanh, name=\"Dense1\")(random_input)\n",
    "x = tf.keras.layers.Dense(8, activation=tf.tanh, name=\"Dense2\")(x)\n",
    "new_alpha_r = x[:,:4]\n",
    "new_alpha_i = x[:,4:]\n",
    "\n",
    "new_alpha = tf.complex(new_alpha_r, new_alpha_i)\n",
    "new_dagger_alpha = tf.math.conj(new_alpha)\n",
    "\n",
    "constraint = tf.matmul(new_dagger_alpha,tf.matmul(tf.cast(E,tf.complex64),tf.transpose(new_alpha)))\n",
    "# new_normed_alpha = new_alpha/(new_norm)\n",
    "# new_normed_dagger_alpha = new_dagger_alpha\n",
    "\n",
    "F = tf.matmul(new_dagger_alpha,tf.matmul(G,tf.matmul(tf.transpose(alpha),tf.matmul(dagger_alpha,tf.matmul(tf.transpose(tf.math.conj(G)),tf.transpose(new_alpha))))))/tf.matmul(dagger_alpha,tf.matmul(E,tf.transpose(alpha)))\n",
    "F_R = tf.matmul(tf.math.conj(F), tf.transpose(F))\n",
    "loss = K.mean(tf.square(tf.square(1-F))+1*tf.square(1-constraint))\n",
    "\n",
    "\n",
    "\n",
    "optimazer = tf.keras.models.Model(random_input, new_alpha, name='optimazed')\n",
    "optimazer.add_loss(loss)\n",
    "opt = tf.keras.optimizers.Adam(learning_rate = 0.01)\n",
    "optimazer.compile(optimizer=opt)"
   ]
  },
  {
   "cell_type": "code",
   "execution_count": null,
   "id": "involved-yeast",
   "metadata": {},
   "outputs": [],
   "source": [
    "inputtest = np.random.rand(1,50)\n",
    "print(inputtest)\n",
    "train = np.ones_like(inputtest)\n",
    "# train = inputtest\n",
    "\n",
    "\n",
    "history = optimazer.fit(train, epochs=epochs, batch_size=50)"
   ]
  },
  {
   "cell_type": "code",
   "execution_count": null,
   "id": "corporate-compact",
   "metadata": {},
   "outputs": [],
   "source": [
    "alpha = optimazer(train)\n",
    "# test = tf.matmul(tf.math.conj(sample),tf.matmul(E,tf.transpose(sample)))\n",
    "# print(test)\n",
    "print(alpha.shape)\n",
    "chi0_vector = np.zeros([1,4])\n",
    "chi0_vector[0,0] = np.sqrt(chi0counts_list[0]/1024)+np.sqrt(chi0counts_list[1]/1024)\n",
    "chi0_vector[0,1] = np.sqrt(chi0counts_list[2]/1024)+np.sqrt(chi0counts_list[3]/1024)\n",
    "chi0_vector[0,2] = np.sqrt(chi0counts_list[2]/1024)+np.sqrt(chi0counts_list[0]/1024)\n",
    "chi0_vector[0,3] = np.sqrt(chi0counts_list[1]/1024)+np.sqrt(chi0counts_list[3]/1024)\n",
    "print(chi0_vector)\n",
    "\n",
    "chi1_vector = np.zeros([1,4])\n",
    "chi1_vector[0,0] = np.sqrt(chi1counts_list[0]/1024)+np.sqrt(chi1counts_list[1]/1024)\n",
    "chi1_vector[0,1] = np.sqrt(chi1counts_list[2]/1024)+np.sqrt(chi1counts_list[3]/1024)\n",
    "chi1_vector[0,2] = np.sqrt(chi1counts_list[2]/1024)+np.sqrt(chi1counts_list[0]/1024)\n",
    "chi1_vector[0,3] = np.sqrt(chi1counts_list[1]/1024)+np.sqrt(chi1counts_list[3]/1024)\n",
    "print(chi1_vector)\n",
    "\n",
    "chi2_vector = np.zeros([1,4])\n",
    "chi2_vector[0,0] = np.sqrt(chi2counts_list[0]/1024)+np.sqrt(chi2counts_list[1]/1024)\n",
    "chi2_vector[0,1] = np.sqrt(chi2counts_list[2]/1024)+np.sqrt(chi2counts_list[3]/1024)\n",
    "chi2_vector[0,2] = np.sqrt(chi2counts_list[2]/1024)+np.sqrt(chi2counts_list[0]/1024)\n",
    "chi2_vector[0,3] = np.sqrt(chi2counts_list[1]/1024)+np.sqrt(chi2counts_list[3]/1024)\n",
    "print(chi2_vector)\n",
    "\n",
    "chi3_vector = np.zeros([1,4])\n",
    "chi3_vector[0,0] = np.sqrt(chi3counts_list[0]/1024)+np.sqrt(chi3counts_list[1]/1024)\n",
    "chi3_vector[0,1] = np.sqrt(chi3counts_list[2]/1024)+np.sqrt(chi3counts_list[3]/1024)\n",
    "chi3_vector[0,2] = np.sqrt(chi3counts_list[2]/1024)+np.sqrt(chi3counts_list[0]/1024)\n",
    "chi3_vector[0,3] = np.sqrt(chi3counts_list[1]/1024)+np.sqrt(chi3counts_list[3]/1024)\n",
    "print(chi3_vector)\n",
    "\n",
    "psi_new = alpha[0,0]*chi0_vector + alpha[0,1]*chi1_vector + alpha[0,2]*chi2_vector+ alpha[0,3]*chi3_vector\n",
    "\n",
    "ztensor = np.zeros([4,4])\n",
    "ztensor[0,0] = 1\n",
    "ztensor[1,1] = 1\n",
    "ztensor[2,2] = -1\n",
    "ztensor[3,3] = -1\n",
    "\n",
    "zexp = np.matmul(np.conjugate(psi_new),np.matmul(ztensor, np.transpose(psi_new)))\n",
    "print(zexp)"
   ]
  },
  {
   "cell_type": "code",
   "execution_count": null,
   "id": "entitled-berlin",
   "metadata": {},
   "outputs": [],
   "source": [
    "print(zexp)\n",
    "zexps = []\n",
    "zexps.append(zexp)"
   ]
  },
  {
   "cell_type": "code",
   "execution_count": null,
   "id": "intensive-privacy",
   "metadata": {},
   "outputs": [],
   "source": [
    "dagger_alpha = tf.math.conj(alpha)\n",
    "\n",
    "random_input = tf.keras.layers.Input(shape=(50))\n",
    "x = tf.keras.layers.Dense(20, activation=tf.tanh, name=\"Dense1\")(random_input)\n",
    "x = tf.keras.layers.Dense(8, activation=tf.tanh, name=\"Dense2\")(x)\n",
    "new_alpha_r = x[:,:4]\n",
    "new_alpha_i = x[:,4:]\n",
    "\n",
    "new_alpha = tf.complex(new_alpha_r, new_alpha_i)\n",
    "new_dagger_alpha = tf.math.conj(new_alpha)\n",
    "\n",
    "constraint = tf.matmul(new_dagger_alpha,tf.matmul(tf.cast(E,tf.complex64),tf.transpose(new_alpha)))\n",
    "# new_normed_alpha = new_alpha/(new_norm)\n",
    "# new_normed_dagger_alpha = new_dagger_alpha\n",
    "\n",
    "F = tf.matmul(new_dagger_alpha,tf.matmul(G,tf.matmul(tf.transpose(alpha),tf.matmul(dagger_alpha,tf.matmul(tf.transpose(tf.math.conj(G)),tf.transpose(new_alpha))))))/tf.matmul(dagger_alpha,tf.matmul(E,tf.transpose(alpha)))\n",
    "F_R = tf.matmul(tf.math.conj(F), tf.transpose(F))\n",
    "loss = K.mean(tf.square(tf.square(1-F))+1*tf.square(1-constraint))\n",
    "\n",
    "\n",
    "\n",
    "optimazer = tf.keras.models.Model(random_input, new_alpha, name='optimazed')\n",
    "optimazer.add_loss(loss)\n",
    "opt = tf.keras.optimizers.Adam(learning_rate = 0.01)\n",
    "optimazer.compile(optimizer=opt)\n",
    "\n",
    "inputtest = np.random.rand(1,50)\n",
    "print(inputtest)\n",
    "train = np.ones_like(inputtest)\n",
    "# train = inputtest\n",
    "\n",
    "\n",
    "history = optimazer.fit(train, epochs=epochs, batch_size=50)"
   ]
  },
  {
   "cell_type": "code",
   "execution_count": null,
   "id": "lovely-elevation",
   "metadata": {},
   "outputs": [],
   "source": [
    "\n",
    "alpha = optimazer(train)\n",
    "\n",
    "psi_new = alpha[0,0]*chi0_vector + alpha[0,1]*chi1_vector + alpha[0,2]*chi2_vector+ alpha[0,3]*chi3_vector\n",
    "\n",
    "zexp = np.matmul(np.conjugate(psi_new),np.matmul(ztensor, np.transpose(psi_new)))\n",
    "\n",
    "print(zexp)\n",
    "zexps.append(zexp)\n",
    "print(zexps)"
   ]
  },
  {
   "cell_type": "code",
   "execution_count": null,
   "id": "according-electricity",
   "metadata": {},
   "outputs": [],
   "source": [
    "dagger_alpha = tf.math.conj(alpha)\n",
    "\n",
    "random_input = tf.keras.layers.Input(shape=(50))\n",
    "x = tf.keras.layers.Dense(20, activation=tf.tanh, name=\"Dense1\")(random_input)\n",
    "x = tf.keras.layers.Dense(8, activation=tf.tanh, name=\"Dense2\")(x)\n",
    "new_alpha_r = x[:,:4]\n",
    "new_alpha_i = x[:,4:]\n",
    "\n",
    "new_alpha = tf.complex(new_alpha_r, new_alpha_i)\n",
    "new_dagger_alpha = tf.math.conj(new_alpha)\n",
    "\n",
    "constraint = tf.matmul(new_dagger_alpha,tf.matmul(tf.cast(E,tf.complex64),tf.transpose(new_alpha)))\n",
    "# new_normed_alpha = new_alpha/(new_norm)\n",
    "# new_normed_dagger_alpha = new_dagger_alpha\n",
    "\n",
    "F = tf.matmul(new_dagger_alpha,tf.matmul(G,tf.matmul(tf.transpose(alpha),tf.matmul(dagger_alpha,tf.matmul(tf.transpose(tf.math.conj(G)),tf.transpose(new_alpha))))))/tf.matmul(dagger_alpha,tf.matmul(E,tf.transpose(alpha)))\n",
    "F_R = tf.matmul(tf.math.conj(F), tf.transpose(F))\n",
    "loss = K.mean(tf.square(tf.square(1-F))+1*tf.square(1-constraint))\n",
    "\n",
    "\n",
    "\n",
    "optimazer = tf.keras.models.Model(random_input, new_alpha, name='optimazed')\n",
    "optimazer.add_loss(loss)\n",
    "opt = tf.keras.optimizers.Adam(learning_rate = 0.01)\n",
    "optimazer.compile(optimizer=opt)\n",
    "\n",
    "inputtest = np.random.rand(1,50)\n",
    "print(inputtest)\n",
    "train = np.ones_like(inputtest)\n",
    "# train = inputtest\n",
    "\n",
    "\n",
    "history = optimazer.fit(train, epochs=epochs, batch_size=50)"
   ]
  },
  {
   "cell_type": "code",
   "execution_count": null,
   "id": "fresh-venue",
   "metadata": {},
   "outputs": [],
   "source": [
    "\n",
    "alpha = optimazer(train)\n",
    "\n",
    "psi_new = alpha[0,0]*chi0_vector + alpha[0,1]*chi1_vector + alpha[0,2]*chi2_vector+ alpha[0,3]*chi3_vector\n",
    "\n",
    "zexp = np.matmul(np.conjugate(psi_new),np.matmul(ztensor, np.transpose(psi_new)))\n",
    "\n",
    "zexps.append(zexp)\n",
    "print(zexps)"
   ]
  },
  {
   "cell_type": "code",
   "execution_count": null,
   "id": "parliamentary-zealand",
   "metadata": {},
   "outputs": [],
   "source": [
    "dagger_alpha = tf.math.conj(alpha)\n",
    "\n",
    "random_input = tf.keras.layers.Input(shape=(50))\n",
    "x = tf.keras.layers.Dense(20, activation=tf.tanh, name=\"Dense1\")(random_input)\n",
    "x = tf.keras.layers.Dense(8, activation=tf.tanh, name=\"Dense2\")(x)\n",
    "new_alpha_r = x[:,:4]\n",
    "new_alpha_i = x[:,4:]\n",
    "\n",
    "new_alpha = tf.complex(new_alpha_r, new_alpha_i)\n",
    "new_dagger_alpha = tf.math.conj(new_alpha)\n",
    "\n",
    "constraint = tf.matmul(new_dagger_alpha,tf.matmul(tf.cast(E,tf.complex64),tf.transpose(new_alpha)))\n",
    "# new_normed_alpha = new_alpha/(new_norm)\n",
    "# new_normed_dagger_alpha = new_dagger_alpha\n",
    "\n",
    "F = tf.matmul(new_dagger_alpha,tf.matmul(G,tf.matmul(tf.transpose(alpha),tf.matmul(dagger_alpha,tf.matmul(tf.transpose(tf.math.conj(G)),tf.transpose(new_alpha))))))/tf.matmul(dagger_alpha,tf.matmul(E,tf.transpose(alpha)))\n",
    "F_R = tf.matmul(tf.math.conj(F), tf.transpose(F))\n",
    "loss = K.mean(tf.square(tf.square(1-F))+1*tf.square(1-constraint))\n",
    "\n",
    "\n",
    "\n",
    "optimazer = tf.keras.models.Model(random_input, new_alpha, name='optimazed')\n",
    "optimazer.add_loss(loss)\n",
    "opt = tf.keras.optimizers.Adam(learning_rate = 0.01)\n",
    "optimazer.compile(optimizer=opt)\n",
    "\n",
    "inputtest = np.random.rand(1,50)\n",
    "print(inputtest)\n",
    "train = np.ones_like(inputtest)\n",
    "# train = inputtest\n",
    "\n",
    "\n",
    "history = optimazer.fit(train, epochs=epochs, batch_size=50)"
   ]
  },
  {
   "cell_type": "code",
   "execution_count": null,
   "id": "endless-round",
   "metadata": {},
   "outputs": [],
   "source": [
    "\n",
    "alpha = optimazer(train)\n",
    "\n",
    "psi_new = alpha[0,0]*chi0_vector + alpha[0,1]*chi1_vector + alpha[0,2]*chi2_vector+ alpha[0,3]*chi3_vector\n",
    "\n",
    "zexp = np.matmul(np.conjugate(psi_new),np.matmul(ztensor, np.transpose(psi_new)))\n",
    "\n",
    "zexps.append(zexp)\n",
    "print(zexps)"
   ]
  },
  {
   "cell_type": "code",
   "execution_count": null,
   "id": "amateur-scheme",
   "metadata": {},
   "outputs": [],
   "source": [
    "dagger_alpha = tf.math.conj(alpha)\n",
    "\n",
    "random_input = tf.keras.layers.Input(shape=(50))\n",
    "x = tf.keras.layers.Dense(20, activation=tf.tanh, name=\"Dense1\")(random_input)\n",
    "x = tf.keras.layers.Dense(8, activation=tf.tanh, name=\"Dense2\")(x)\n",
    "new_alpha_r = x[:,:4]\n",
    "new_alpha_i = x[:,4:]\n",
    "\n",
    "new_alpha = tf.complex(new_alpha_r, new_alpha_i)\n",
    "new_dagger_alpha = tf.math.conj(new_alpha)\n",
    "\n",
    "constraint = tf.matmul(new_dagger_alpha,tf.matmul(tf.cast(E,tf.complex64),tf.transpose(new_alpha)))\n",
    "# new_normed_alpha = new_alpha/(new_norm)\n",
    "# new_normed_dagger_alpha = new_dagger_alpha\n",
    "\n",
    "F = tf.matmul(new_dagger_alpha,tf.matmul(G,tf.matmul(tf.transpose(alpha),tf.matmul(dagger_alpha,tf.matmul(tf.transpose(tf.math.conj(G)),tf.transpose(new_alpha))))))/tf.matmul(dagger_alpha,tf.matmul(E,tf.transpose(alpha)))\n",
    "F_R = tf.matmul(tf.math.conj(F), tf.transpose(F))\n",
    "loss = K.mean(tf.square(tf.square(1-F))+1*tf.square(1-constraint))\n",
    "\n",
    "\n",
    "\n",
    "optimazer = tf.keras.models.Model(random_input, new_alpha, name='optimazed')\n",
    "optimazer.add_loss(loss)\n",
    "opt = tf.keras.optimizers.Adam(learning_rate = 0.01)\n",
    "optimazer.compile(optimizer=opt)\n",
    "\n",
    "inputtest = np.random.rand(1,50)\n",
    "print(inputtest)\n",
    "train = np.ones_like(inputtest)\n",
    "# train = inputtest\n",
    "\n",
    "\n",
    "history = optimazer.fit(train, epochs=epochs, batch_size=50)"
   ]
  },
  {
   "cell_type": "code",
   "execution_count": null,
   "id": "recorded-fusion",
   "metadata": {},
   "outputs": [],
   "source": [
    "\n",
    "alpha = optimazer(train)\n",
    "\n",
    "psi_new = alpha[0,0]*chi0_vector + alpha[0,1]*chi1_vector + alpha[0,2]*chi2_vector+ alpha[0,3]*chi3_vector\n",
    "\n",
    "zexp = np.matmul(np.conjugate(psi_new),np.matmul(ztensor, np.transpose(psi_new)))\n",
    "\n",
    "zexps.append(zexp)\n",
    "print(zexps)"
   ]
  },
  {
   "cell_type": "code",
   "execution_count": null,
   "id": "synthetic-deadline",
   "metadata": {},
   "outputs": [],
   "source": [
    "dagger_alpha = tf.math.conj(alpha)\n",
    "\n",
    "random_input = tf.keras.layers.Input(shape=(50))\n",
    "x = tf.keras.layers.Dense(20, activation=tf.tanh, name=\"Dense1\")(random_input)\n",
    "x = tf.keras.layers.Dense(8, activation=tf.tanh, name=\"Dense2\")(x)\n",
    "new_alpha_r = x[:,:4]\n",
    "new_alpha_i = x[:,4:]\n",
    "\n",
    "new_alpha = tf.complex(new_alpha_r, new_alpha_i)\n",
    "new_dagger_alpha = tf.math.conj(new_alpha)\n",
    "\n",
    "constraint = tf.matmul(new_dagger_alpha,tf.matmul(tf.cast(E,tf.complex64),tf.transpose(new_alpha)))\n",
    "# new_normed_alpha = new_alpha/(new_norm)\n",
    "# new_normed_dagger_alpha = new_dagger_alpha\n",
    "\n",
    "F = tf.matmul(new_dagger_alpha,tf.matmul(G,tf.matmul(tf.transpose(alpha),tf.matmul(dagger_alpha,tf.matmul(tf.transpose(tf.math.conj(G)),tf.transpose(new_alpha))))))/tf.matmul(dagger_alpha,tf.matmul(E,tf.transpose(alpha)))\n",
    "F_R = tf.matmul(tf.math.conj(F), tf.transpose(F))\n",
    "loss = K.mean(tf.square(tf.square(1-F))+1*tf.square(1-constraint))\n",
    "\n",
    "\n",
    "\n",
    "optimazer = tf.keras.models.Model(random_input, new_alpha, name='optimazed')\n",
    "optimazer.add_loss(loss)\n",
    "opt = tf.keras.optimizers.Adam(learning_rate = 0.01)\n",
    "optimazer.compile(optimizer=opt)\n",
    "\n",
    "inputtest = np.random.rand(1,50)\n",
    "print(inputtest)\n",
    "train = np.ones_like(inputtest)\n",
    "# train = inputtest\n",
    "\n",
    "\n",
    "history = optimazer.fit(train, epochs=epochs, batch_size=50)"
   ]
  },
  {
   "cell_type": "code",
   "execution_count": null,
   "id": "celtic-prime",
   "metadata": {},
   "outputs": [],
   "source": [
    "\n",
    "alpha = optimazer(train)\n",
    "\n",
    "psi_new = alpha[0,0]*chi0_vector + alpha[0,1]*chi1_vector + alpha[0,2]*chi2_vector+ alpha[0,3]*chi3_vector\n",
    "\n",
    "zexp = np.matmul(np.conjugate(psi_new),np.matmul(ztensor, np.transpose(psi_new)))\n",
    "\n",
    "zexps.append(zexp)\n",
    "print(zexps)"
   ]
  },
  {
   "cell_type": "code",
   "execution_count": null,
   "id": "creative-knight",
   "metadata": {},
   "outputs": [],
   "source": [
    "dagger_alpha = tf.math.conj(alpha)\n",
    "\n",
    "random_input = tf.keras.layers.Input(shape=(50))\n",
    "x = tf.keras.layers.Dense(20, activation=tf.tanh, name=\"Dense1\")(random_input)\n",
    "x = tf.keras.layers.Dense(8, activation=tf.tanh, name=\"Dense2\")(x)\n",
    "new_alpha_r = x[:,:4]\n",
    "new_alpha_i = x[:,4:]\n",
    "\n",
    "new_alpha = tf.complex(new_alpha_r, new_alpha_i)\n",
    "new_dagger_alpha = tf.math.conj(new_alpha)\n",
    "\n",
    "constraint = tf.matmul(new_dagger_alpha,tf.matmul(tf.cast(E,tf.complex64),tf.transpose(new_alpha)))\n",
    "# new_normed_alpha = new_alpha/(new_norm)\n",
    "# new_normed_dagger_alpha = new_dagger_alpha\n",
    "\n",
    "F = tf.matmul(new_dagger_alpha,tf.matmul(G,tf.matmul(tf.transpose(alpha),tf.matmul(dagger_alpha,tf.matmul(tf.transpose(tf.math.conj(G)),tf.transpose(new_alpha))))))/tf.matmul(dagger_alpha,tf.matmul(E,tf.transpose(alpha)))\n",
    "F_R = tf.matmul(tf.math.conj(F), tf.transpose(F))\n",
    "loss = K.mean(tf.square(tf.square(1-F))+1*tf.square(1-constraint))\n",
    "\n",
    "\n",
    "\n",
    "optimazer = tf.keras.models.Model(random_input, new_alpha, name='optimazed')\n",
    "optimazer.add_loss(loss)\n",
    "opt = tf.keras.optimizers.Adam(learning_rate = 0.01)\n",
    "optimazer.compile(optimizer=opt)\n",
    "\n",
    "inputtest = np.random.rand(1,50)\n",
    "print(inputtest)\n",
    "train = np.ones_like(inputtest)\n",
    "# train = inputtest\n",
    "\n",
    "\n",
    "history = optimazer.fit(train, epochs=epochs, batch_size=50)"
   ]
  },
  {
   "cell_type": "code",
   "execution_count": null,
   "id": "personalized-production",
   "metadata": {},
   "outputs": [],
   "source": [
    "\n",
    "alpha = optimazer(train)\n",
    "\n",
    "psi_new = alpha[0,0]*chi0_vector + alpha[0,1]*chi1_vector + alpha[0,2]*chi2_vector+ alpha[0,3]*chi3_vector\n",
    "\n",
    "zexp = np.matmul(np.conjugate(psi_new),np.matmul(ztensor, np.transpose(psi_new)))\n",
    "\n",
    "zexps.append(zexp)\n",
    "print(zexps)"
   ]
  },
  {
   "cell_type": "code",
   "execution_count": null,
   "id": "eastern-cooperation",
   "metadata": {},
   "outputs": [],
   "source": [
    "dagger_alpha = tf.math.conj(alpha)\n",
    "\n",
    "random_input = tf.keras.layers.Input(shape=(50))\n",
    "x = tf.keras.layers.Dense(20, activation=tf.tanh, name=\"Dense1\")(random_input)\n",
    "x = tf.keras.layers.Dense(8, activation=tf.tanh, name=\"Dense2\")(x)\n",
    "new_alpha_r = x[:,:4]\n",
    "new_alpha_i = x[:,4:]\n",
    "\n",
    "new_alpha = tf.complex(new_alpha_r, new_alpha_i)\n",
    "new_dagger_alpha = tf.math.conj(new_alpha)\n",
    "\n",
    "constraint = tf.matmul(new_dagger_alpha,tf.matmul(tf.cast(E,tf.complex64),tf.transpose(new_alpha)))\n",
    "# new_normed_alpha = new_alpha/(new_norm)\n",
    "# new_normed_dagger_alpha = new_dagger_alpha\n",
    "\n",
    "F = tf.matmul(new_dagger_alpha,tf.matmul(G,tf.matmul(tf.transpose(alpha),tf.matmul(dagger_alpha,tf.matmul(tf.transpose(tf.math.conj(G)),tf.transpose(new_alpha))))))/tf.matmul(dagger_alpha,tf.matmul(E,tf.transpose(alpha)))\n",
    "F_R = tf.matmul(tf.math.conj(F), tf.transpose(F))\n",
    "loss = K.mean(tf.square(tf.square(1-F))+1*tf.square(1-constraint))\n",
    "\n",
    "\n",
    "\n",
    "optimazer = tf.keras.models.Model(random_input, new_alpha, name='optimazed')\n",
    "optimazer.add_loss(loss)\n",
    "opt = tf.keras.optimizers.Adam(learning_rate = 0.01)\n",
    "optimazer.compile(optimizer=opt)\n",
    "\n",
    "inputtest = np.random.rand(1,50)\n",
    "print(inputtest)\n",
    "train = np.ones_like(inputtest)\n",
    "# train = inputtest\n",
    "\n",
    "\n",
    "history = optimazer.fit(train, epochs=epochs, batch_size=50)"
   ]
  },
  {
   "cell_type": "code",
   "execution_count": null,
   "id": "discrete-lindsay",
   "metadata": {},
   "outputs": [],
   "source": [
    "\n",
    "alpha = optimazer(train)\n",
    "\n",
    "psi_new = alpha[0,0]*chi0_vector + alpha[0,1]*chi1_vector + alpha[0,2]*chi2_vector+ alpha[0,3]*chi3_vector\n",
    "\n",
    "zexp = np.matmul(np.conjugate(psi_new),np.matmul(ztensor, np.transpose(psi_new)))\n",
    "\n",
    "zexps.append(zexp)\n",
    "print(zexps)"
   ]
  },
  {
   "cell_type": "code",
   "execution_count": null,
   "id": "similar-biology",
   "metadata": {},
   "outputs": [],
   "source": [
    "import matplotlib.pyplot as plt\n",
    "\n",
    "x = np.linspace(1,8,8)\n",
    "\n",
    "plt.plot(x,np.squeeze(zexps), 'k.-')\n",
    "plt.show()"
   ]
  },
  {
   "cell_type": "code",
   "execution_count": null,
   "id": "available-going",
   "metadata": {},
   "outputs": [],
   "source": []
  },
  {
   "cell_type": "markdown",
   "id": "individual-auckland",
   "metadata": {},
   "source": [
    "Old version"
   ]
  },
  {
   "cell_type": "code",
   "execution_count": null,
   "id": "loose-computer",
   "metadata": {},
   "outputs": [],
   "source": [
    "qreg_q = QuantumRegister(2, 'q')\n",
    "creg_c = ClassicalRegister(2, 'c')\n",
    "circuit = QuantumCircuit(qreg_q, creg_c)\n",
    "\n",
    "circuit.rx(param_list[0] , qreg_q[0])\n",
    "circuit.ry(param_list[1] , qreg_q[1])\n",
    "circuit.rz(param_list[2] , qreg_q[0])\n",
    "circuit.rx(param_list[3] , qreg_q[1])\n",
    "circuit.ry(param_list[4] , qreg_q[0])\n",
    "circuit.rz(param_list[5] , qreg_q[1])\n",
    "circuit.cnot(qreg_q[0] , qreg_q[1])\n",
    "\n",
    "circuit.z(qreg_q[0])\n",
    "circuit.z(qreg_q[1])\n",
    "\n",
    "circuit.cnot(qreg_q[0] , qreg_q[1])\n",
    "circuit.ry(-param_list[4] , qreg_q[0])\n",
    "circuit.rz(-param_list[5] , qreg_q[1])\n",
    "circuit.rz(-param_list[2] , qreg_q[0])\n",
    "circuit.rx(-param_list[3] , qreg_q[1])\n",
    "circuit.rx(-param_list[0] , qreg_q[0])\n",
    "circuit.ry(-param_list[1] , qreg_q[1])\n",
    "\n",
    "circuit.measure_all()\n",
    "\n",
    "t_circ = transpile(circuit, backend)\n",
    "\n",
    "qobj = assemble(t_circ, shot = 8192 )\n",
    "counts = backend.run(qobj).result().get_counts()\n",
    "\n",
    "\n",
    "circuit.draw()\n",
    "plot_histogram(counts)"
   ]
  },
  {
   "cell_type": "code",
   "execution_count": null,
   "id": "productive-convention",
   "metadata": {},
   "outputs": [],
   "source": [
    "from qiskit import assemble\n",
    "from qiskit.visualization import plot_histogram\n",
    "\n",
    "qobj = assemble(t_circ, shot = 8192 )\n",
    "counts = backend.run(qobj).result().get_counts()\n",
    "\n",
    "plot_histogram(counts)"
   ]
  },
  {
   "cell_type": "code",
   "execution_count": null,
   "id": "focused-ethnic",
   "metadata": {},
   "outputs": [],
   "source": [
    "Emat = np.array([[counts['0000001000'],counts['0000001010'],counts['0000000010'],counts['0000000000']],\n",
    "                 [counts['0000001001'],counts['0000001011'],counts['0000000011'],counts['0000000001']],\n",
    "                 [counts['0000001101'],counts['0000001111'],counts['0000000111'],counts['0000000101']],\n",
    "                 [counts['0000001100'],counts['0000001110'],counts['0000000110'],counts['0000000100']\n",
    "                 ]])"
   ]
  },
  {
   "cell_type": "code",
   "execution_count": null,
   "id": "together-canyon",
   "metadata": {},
   "outputs": [],
   "source": [
    "Emat = np.sqrt((Emat*32-1)/8192)"
   ]
  }
 ],
 "metadata": {
  "kernelspec": {
   "display_name": "ibmq",
   "language": "python",
   "name": "ibmq"
  },
  "language_info": {
   "codemirror_mode": {
    "name": "ipython",
    "version": 3
   },
   "file_extension": ".py",
   "mimetype": "text/x-python",
   "name": "python",
   "nbconvert_exporter": "python",
   "pygments_lexer": "ipython3",
   "version": "3.6.10"
  }
 },
 "nbformat": 4,
 "nbformat_minor": 5
}
